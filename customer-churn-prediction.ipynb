{
 "cells": [
  {
   "cell_type": "markdown",
   "metadata": {},
   "source": [
    "# Customer Churn Prediction"
   ]
  },
  {
   "cell_type": "markdown",
   "metadata": {},
   "source": [
    "In this webinar, we will loads data from the UCI Online Retail data (http://archive.ics.uci.edu/ml/datasets/Online+Retail) and predicts which customers are likely to churn given their purchase activity.\n",
    "\n",
    "Churn can be defined in many ways. We define churn to be <b>no activity within a period of time (called the churn_period)</b>. Using this definition, a user/customer is said to have churned any form of activity is followed by no activity for an entire duration of time known as the `churn_period` (by default, we assume 30 days). The following figure better illustrates this concept.\n",
    "\n",
    "<img src=\"https://dato.com/images/learn/churn-illustration.png\"/>\n",
    "\n",
    "(from our user guide: https://dato.com/learn/userguide/churn_prediction/churn-prediction.html)\n",
    "\n",
    "We will dig deaper into the different parameters of the Churn Prediction toolkit, but let's start by loading some data!"
   ]
  },
  {
   "cell_type": "code",
   "execution_count": 5,
   "metadata": {
    "ExecuteTime": {
     "end_time": "2016-06-02T05:11:16.997616",
     "start_time": "2016-06-02T05:11:16.994924"
    },
    "collapsed": false
   },
   "outputs": [],
   "source": [
    "# Let's import Graphlab Create and a few other libraries\n",
    "import graphlab as gl\n",
    "import graphlab.aggregate\n",
    "import datetime\n",
    "import time\n",
    "import os"
   ]
  },
  {
   "cell_type": "markdown",
   "metadata": {
    "collapsed": true
   },
   "source": [
    "### Import data from a locally downloaded copy of the UCI data set\n",
    "\n",
    "Graphlab Create supports loading data from live databases, as well as from local files. In this case, since we're working with a fixed dataset, we will load it from disk."
   ]
  },
  {
   "cell_type": "code",
   "execution_count": 8,
   "metadata": {
    "ExecuteTime": {
     "end_time": "2016-06-02T05:14:39.537835",
     "start_time": "2016-06-02T05:14:39.532593"
    },
    "collapsed": false,
    "scrolled": true
   },
   "outputs": [],
   "source": [
    "if  not os.path.exists('Data/online_retail'):\n",
    "    data = gl.SFrame(\"https://s3.amazonaws.com/dato-datasets/churn-prediction/online_retail.csv\")\n",
    "    data = data.remove_columns(['InvoiceNo', 'Description'])\n",
    "    data['InvoiceDate']=data['InvoiceDate'].str_to_datetime('%m/%d/%y %H:%M')\n",
    "    data.save('Data/online_retail')\n",
    "else:\n",
    "    data = gl.SFrame('Data/online_retail')"
   ]
  },
  {
   "cell_type": "markdown",
   "metadata": {},
   "source": [
    "Finally, we want to separate some users into a train/validation set, making sure the validation users are not in the training set, and creating TimeSeries objects out of them."
   ]
  },
  {
   "cell_type": "code",
   "execution_count": 23,
   "metadata": {
    "ExecuteTime": {
     "end_time": "2016-06-02T05:25:06.679631",
     "start_time": "2016-06-02T05:25:04.633799"
    },
    "collapsed": true
   },
   "outputs": [],
   "source": [
    "(train, valid) = gl.churn_predictor.random_split(data, user_id = 'CustomerID', fraction = 0.9, seed = 12)\n",
    "train_trial = gl.TimeSeries(train, index = 'InvoiceDate')\n",
    "valid_trial = gl.TimeSeries(valid, index = 'InvoiceDate')"
   ]
  },
  {
   "cell_type": "markdown",
   "metadata": {},
   "source": [
    "Now we can load user information, which can be used to augment the churn prediction model."
   ]
  },
  {
   "cell_type": "code",
   "execution_count": 24,
   "metadata": {
    "ExecuteTime": {
     "end_time": "2016-06-02T05:25:52.662824",
     "start_time": "2016-06-02T05:25:49.548907"
    },
    "collapsed": false
   },
   "outputs": [
    {
     "data": {
      "text/html": [
       "<pre>Downloading https://s3.amazonaws.com/dato-datasets/churn-prediction/online_retail_side_data_extended.csv to /var/tmp/graphlab-ec2-user/29183/d0e51ef4-9a71-495a-88fc-3b88eb326087.csv</pre>"
      ],
      "text/plain": [
       "Downloading https://s3.amazonaws.com/dato-datasets/churn-prediction/online_retail_side_data_extended.csv to /var/tmp/graphlab-ec2-user/29183/d0e51ef4-9a71-495a-88fc-3b88eb326087.csv"
      ]
     },
     "metadata": {},
     "output_type": "display_data"
    },
    {
     "data": {
      "text/html": [
       "<pre>Finished parsing file https://s3.amazonaws.com/dato-datasets/churn-prediction/online_retail_side_data_extended.csv</pre>"
      ],
      "text/plain": [
       "Finished parsing file https://s3.amazonaws.com/dato-datasets/churn-prediction/online_retail_side_data_extended.csv"
      ]
     },
     "metadata": {},
     "output_type": "display_data"
    },
    {
     "data": {
      "text/html": [
       "<pre>Parsing completed. Parsed 100 lines in 0.008735 secs.</pre>"
      ],
      "text/plain": [
       "Parsing completed. Parsed 100 lines in 0.008735 secs."
      ]
     },
     "metadata": {},
     "output_type": "display_data"
    },
    {
     "data": {
      "text/html": [
       "<pre>Finished parsing file https://s3.amazonaws.com/dato-datasets/churn-prediction/online_retail_side_data_extended.csv</pre>"
      ],
      "text/plain": [
       "Finished parsing file https://s3.amazonaws.com/dato-datasets/churn-prediction/online_retail_side_data_extended.csv"
      ]
     },
     "metadata": {},
     "output_type": "display_data"
    },
    {
     "data": {
      "text/html": [
       "<pre>Parsing completed. Parsed 4380 lines in 0.006897 secs.</pre>"
      ],
      "text/plain": [
       "Parsing completed. Parsed 4380 lines in 0.006897 secs."
      ]
     },
     "metadata": {},
     "output_type": "display_data"
    },
    {
     "name": "stdout",
     "output_type": "stream",
     "text": [
      "------------------------------------------------------\n",
      "Inferred types from first 100 line(s) of file as \n",
      "column_type_hints=[int,str,int,str]\n",
      "If parsing fails due to incorrect types, you can correct\n",
      "the inferred type list above and pass it to read_csv in\n",
      "the column_type_hints argument\n",
      "------------------------------------------------------\n"
     ]
    }
   ],
   "source": [
    "if  not os.path.exists('Data/userdata'):\n",
    "    userdata = gl.SFrame(\"https://s3.amazonaws.com/dato-datasets/churn-prediction/online_retail_side_data_extended.csv\")\n",
    "    userdata.save('Data/userdata')\n",
    "else:\n",
    "    userdata = gl.SFrame('Data/userdata')"
   ]
  },
  {
   "cell_type": "markdown",
   "metadata": {},
   "source": [
    "## Training the model"
   ]
  },
  {
   "cell_type": "markdown",
   "metadata": {},
   "source": [
    "Let's now train the model."
   ]
  },
  {
   "cell_type": "markdown",
   "metadata": {},
   "source": [
    "### Create a train-test split based on users"
   ]
  },
  {
   "cell_type": "markdown",
   "metadata": {},
   "source": [
    "First, let's observe the data, and see what the time range looks like"
   ]
  },
  {
   "cell_type": "code",
   "execution_count": 25,
   "metadata": {
    "ExecuteTime": {
     "end_time": "2016-06-02T05:26:02.051093",
     "start_time": "2016-06-02T05:26:02.030844"
    },
    "collapsed": false
   },
   "outputs": [
    {
     "name": "stdout",
     "output_type": "stream",
     "text": [
      "Start date : 2010-12-01 08:26:00\n",
      "End date   : 2011-12-09 12:50:00\n"
     ]
    }
   ],
   "source": [
    "print \"Start date : %s\" % train_trial.min_time\n",
    "print \"End date   : %s\" % train_trial.max_time"
   ]
  },
  {
   "cell_type": "code",
   "execution_count": 26,
   "metadata": {
    "ExecuteTime": {
     "end_time": "2016-06-02T05:26:30.642149",
     "start_time": "2016-06-02T05:26:30.637874"
    },
    "collapsed": true
   },
   "outputs": [],
   "source": [
    "# Period of inactivity that defines churn -- meaning that if a user stops purchasing\n",
    "# items for 30 days, we'll consider them as having churned.\n",
    "churn_period_trial = datetime.timedelta(days = 30) \n",
    "\n",
    "# Different beginning of months\n",
    "churn_boundary_aug = datetime.datetime(year = 2011, month = 8, day = 1) \n",
    "churn_boundary_sep = datetime.datetime(year = 2011, month = 9, day = 1) \n",
    "churn_boundary_oct = datetime.datetime(year = 2011, month = 10, day = 1) "
   ]
  },
  {
   "cell_type": "code",
   "execution_count": 27,
   "metadata": {
    "ExecuteTime": {
     "end_time": "2016-06-02T05:26:38.661042",
     "start_time": "2016-06-02T05:26:32.950584"
    },
    "collapsed": false
   },
   "outputs": [
    {
     "name": "stdout",
     "output_type": "stream",
     "text": [
      "PROGRESS: Grouping observation_data by user.\n",
      "PROGRESS: Resampling grouped observation_data by time-period 1 day, 0:00:00."
     ]
    },
    {
     "data": {
      "text/html": [
       "<pre>StockCode is a categorical variable with too many different values (4063) and will be ignored.</pre>"
      ],
      "text/plain": [
       "StockCode is a categorical variable with too many different values (4063) and will be ignored."
      ]
     },
     "metadata": {},
     "output_type": "display_data"
    },
    {
     "name": "stdout",
     "output_type": "stream",
     "text": [
      "\n",
      "PROGRESS: Generating features for time-boundary.\n",
      "PROGRESS: --------------------------------------------------\n",
      "PROGRESS: Features for 2011-08-01 00:00:00.\n",
      "PROGRESS: Features for 2011-09-01 00:00:00.\n",
      "PROGRESS: Features for 2011-10-01 00:00:00.\n",
      "PROGRESS: Joining user_data with aggregated features.\n",
      "PROGRESS: --------------------------------------------------\n",
      "PROGRESS: Training a classifier model."
     ]
    },
    {
     "data": {
      "text/html": [
       "<pre>Boosted trees classifier:</pre>"
      ],
      "text/plain": [
       "Boosted trees classifier:"
      ]
     },
     "metadata": {},
     "output_type": "display_data"
    },
    {
     "data": {
      "text/html": [
       "<pre>--------------------------------------------------------</pre>"
      ],
      "text/plain": [
       "--------------------------------------------------------"
      ]
     },
     "metadata": {},
     "output_type": "display_data"
    },
    {
     "data": {
      "text/html": [
       "<pre>Number of examples          : 9196</pre>"
      ],
      "text/plain": [
       "Number of examples          : 9196"
      ]
     },
     "metadata": {},
     "output_type": "display_data"
    },
    {
     "data": {
      "text/html": [
       "<pre>Number of classes           : 2</pre>"
      ],
      "text/plain": [
       "Number of classes           : 2"
      ]
     },
     "metadata": {},
     "output_type": "display_data"
    },
    {
     "data": {
      "text/html": [
       "<pre>Number of feature columns   : 23</pre>"
      ],
      "text/plain": [
       "Number of feature columns   : 23"
      ]
     },
     "metadata": {},
     "output_type": "display_data"
    },
    {
     "data": {
      "text/html": [
       "<pre>Number of unpacked features : 1290</pre>"
      ],
      "text/plain": [
       "Number of unpacked features : 1290"
      ]
     },
     "metadata": {},
     "output_type": "display_data"
    },
    {
     "data": {
      "text/html": [
       "<pre>+-----------+--------------+-------------------+-------------------+</pre>"
      ],
      "text/plain": [
       "+-----------+--------------+-------------------+-------------------+"
      ]
     },
     "metadata": {},
     "output_type": "display_data"
    },
    {
     "data": {
      "text/html": [
       "<pre>| Iteration | Elapsed Time | Training-accuracy | Training-log_loss |</pre>"
      ],
      "text/plain": [
       "| Iteration | Elapsed Time | Training-accuracy | Training-log_loss |"
      ]
     },
     "metadata": {},
     "output_type": "display_data"
    },
    {
     "data": {
      "text/html": [
       "<pre>+-----------+--------------+-------------------+-------------------+</pre>"
      ],
      "text/plain": [
       "+-----------+--------------+-------------------+-------------------+"
      ]
     },
     "metadata": {},
     "output_type": "display_data"
    },
    {
     "data": {
      "text/html": [
       "<pre>| 1         | 0.031850     | 0.782623          | 0.602424          |</pre>"
      ],
      "text/plain": [
       "| 1         | 0.031850     | 0.782623          | 0.602424          |"
      ]
     },
     "metadata": {},
     "output_type": "display_data"
    },
    {
     "data": {
      "text/html": [
       "<pre>| 2         | 0.065115     | 0.788930          | 0.552373          |</pre>"
      ],
      "text/plain": [
       "| 2         | 0.065115     | 0.788930          | 0.552373          |"
      ]
     },
     "metadata": {},
     "output_type": "display_data"
    },
    {
     "data": {
      "text/html": [
       "<pre>| 3         | 0.097094     | 0.790779          | 0.522469          |</pre>"
      ],
      "text/plain": [
       "| 3         | 0.097094     | 0.790779          | 0.522469          |"
      ]
     },
     "metadata": {},
     "output_type": "display_data"
    },
    {
     "data": {
      "text/html": [
       "<pre>| 4         | 0.126418     | 0.792410          | 0.503216          |</pre>"
      ],
      "text/plain": [
       "| 4         | 0.126418     | 0.792410          | 0.503216          |"
      ]
     },
     "metadata": {},
     "output_type": "display_data"
    },
    {
     "data": {
      "text/html": [
       "<pre>| 5         | 0.156424     | 0.796868          | 0.489915          |</pre>"
      ],
      "text/plain": [
       "| 5         | 0.156424     | 0.796868          | 0.489915          |"
      ]
     },
     "metadata": {},
     "output_type": "display_data"
    },
    {
     "data": {
      "text/html": [
       "<pre>| 6         | 0.188199     | 0.798826          | 0.480446          |</pre>"
      ],
      "text/plain": [
       "| 6         | 0.188199     | 0.798826          | 0.480446          |"
      ]
     },
     "metadata": {},
     "output_type": "display_data"
    },
    {
     "data": {
      "text/html": [
       "<pre>+-----------+--------------+-------------------+-------------------+</pre>"
      ],
      "text/plain": [
       "+-----------+--------------+-------------------+-------------------+"
      ]
     },
     "metadata": {},
     "output_type": "display_data"
    },
    {
     "name": "stdout",
     "output_type": "stream",
     "text": [
      "\n",
      "PROGRESS: --------------------------------------------------\n",
      "PROGRESS: Model training complete: Next steps\n",
      "PROGRESS: --------------------------------------------------\n",
      "PROGRESS: (1) Evaluate the model at various timestamps in the past:\n",
      "PROGRESS:       metrics = model.evaluate(data, time_in_past)\n",
      "PROGRESS: (2) Make a churn forecast for a timestamp in the future:\n",
      "PROGRESS:       predictions = model.predict(data, time_in_future)\n"
     ]
    }
   ],
   "source": [
    "model = gl.churn_predictor.create(train_trial,\n",
    "                                  user_data = userdata,\n",
    "                                  user_id='CustomerID',\n",
    "                                  churn_period = churn_period_trial,\n",
    "                                  time_boundaries = [churn_boundary_aug, churn_boundary_sep, churn_boundary_oct])"
   ]
  },
  {
   "cell_type": "markdown",
   "metadata": {},
   "source": [
    "### Evaluating the model (post-hoc anaylsis)"
   ]
  },
  {
   "cell_type": "code",
   "execution_count": 28,
   "metadata": {
    "ExecuteTime": {
     "end_time": "2016-06-02T05:31:40.668690",
     "start_time": "2016-06-02T05:31:40.666636"
    },
    "collapsed": true
   },
   "outputs": [],
   "source": [
    "# Evaluate this model in October\n",
    "evaluation_time = churn_boundary_oct"
   ]
  },
  {
   "cell_type": "code",
   "execution_count": 29,
   "metadata": {
    "ExecuteTime": {
     "end_time": "2016-06-02T05:31:42.624695",
     "start_time": "2016-06-02T05:31:42.159293"
    },
    "collapsed": false
   },
   "outputs": [
    {
     "name": "stdout",
     "output_type": "stream",
     "text": [
      "PROGRESS: Making a churn forecast for the time window:\n",
      "PROGRESS: --------------------------------------------------\n",
      "PROGRESS:  Start : 2011-10-01 00:00:00\n",
      "PROGRESS:  End   : 2011-10-31 00:00:00\n",
      "PROGRESS: --------------------------------------------------\n",
      "PROGRESS: Grouping dataset by user.\n",
      "PROGRESS: Resampling grouped observation_data by time-period 1 day, 0:00:00."
     ]
    },
    {
     "data": {
      "text/html": [
       "<pre>StockCode is a categorical variable with too many different values (4063) and will be ignored.</pre>"
      ],
      "text/plain": [
       "StockCode is a categorical variable with too many different values (4063) and will be ignored."
      ]
     },
     "metadata": {},
     "output_type": "display_data"
    },
    {
     "name": "stdout",
     "output_type": "stream",
     "text": [
      "\n",
      "PROGRESS: Generating features for boundary 2011-10-01 00:00:00.\n",
      "PROGRESS: Joining user_data with aggregated features.\n",
      "PROGRESS: Not enough data to make predictions for 70 user(s). \n"
     ]
    }
   ],
   "source": [
    "metrics = model.evaluate(valid_trial, evaluation_time, user_data = userdata)"
   ]
  },
  {
   "cell_type": "code",
   "execution_count": 30,
   "metadata": {
    "ExecuteTime": {
     "end_time": "2016-06-02T05:31:50.767891",
     "start_time": "2016-06-02T05:31:50.713620"
    },
    "collapsed": false
   },
   "outputs": [
    {
     "name": "stdout",
     "output_type": "stream",
     "text": [
      "{'auc': 0.696027064538515, 'recall': 0.9465648854961832, 'precision': 0.7492447129909365, 'roc_curve': Columns:\n",
      "\tthreshold\tfloat\n",
      "\tfpr\tfloat\n",
      "\ttpr\tfloat\n",
      "\tp\tint\n",
      "\tn\tint\n",
      "\n",
      "Rows: 100001\n",
      "\n",
      "Data:\n",
      "+-----------+-----+-----+-----+-----+\n",
      "| threshold | fpr | tpr |  p  |  n  |\n",
      "+-----------+-----+-----+-----+-----+\n",
      "|    0.0    | 1.0 | 1.0 | 262 | 110 |\n",
      "|   1e-05   | 1.0 | 1.0 | 262 | 110 |\n",
      "|   2e-05   | 1.0 | 1.0 | 262 | 110 |\n",
      "|   3e-05   | 1.0 | 1.0 | 262 | 110 |\n",
      "|   4e-05   | 1.0 | 1.0 | 262 | 110 |\n",
      "|   5e-05   | 1.0 | 1.0 | 262 | 110 |\n",
      "|   6e-05   | 1.0 | 1.0 | 262 | 110 |\n",
      "|   7e-05   | 1.0 | 1.0 | 262 | 110 |\n",
      "|   8e-05   | 1.0 | 1.0 | 262 | 110 |\n",
      "|   9e-05   | 1.0 | 1.0 | 262 | 110 |\n",
      "+-----------+-----+-----+-----+-----+\n",
      "[100001 rows x 5 columns]\n",
      "Note: Only the head of the SFrame is printed.\n",
      "You can use print_rows(num_rows=m, num_columns=n) to print more rows and columns., 'evaluation_data': Columns:\n",
      "\tCustomerID\tint\n",
      "\tprobability\tfloat\n",
      "\tlabel\tint\n",
      "\n",
      "Rows: 372\n",
      "\n",
      "Data:\n",
      "+------------+----------------+-------+\n",
      "| CustomerID |  probability   | label |\n",
      "+------------+----------------+-------+\n",
      "|   13761    | 0.785794794559 |   0   |\n",
      "|   12377    | 0.936907827854 |   1   |\n",
      "|   13715    | 0.873813033104 |   1   |\n",
      "|   17725    | 0.19389128685  |   0   |\n",
      "|   15437    | 0.877014517784 |   1   |\n",
      "|   12739    | 0.687626242638 |   1   |\n",
      "|   16523    | 0.058292184025 |   0   |\n",
      "|   14711    | 0.630342960358 |   1   |\n",
      "|   12851    | 0.723314225674 |   1   |\n",
      "|   14739    | 0.801218748093 |   0   |\n",
      "+------------+----------------+-------+\n",
      "[372 rows x 3 columns]\n",
      "Note: Only the head of the SFrame is printed.\n",
      "You can use print_rows(num_rows=m, num_columns=n) to print more rows and columns., 'precision_recall_curve': Columns:\n",
      "\tcutoffs\tfloat\n",
      "\tprecision\tfloat\n",
      "\trecall\tfloat\n",
      "\n",
      "Rows: 5\n",
      "\n",
      "Data:\n",
      "+---------+----------------+-----------------+\n",
      "| cutoffs |   precision    |      recall     |\n",
      "+---------+----------------+-----------------+\n",
      "|   0.1   | 0.711171662125 |  0.996183206107 |\n",
      "|   0.25  | 0.715877437326 |  0.980916030534 |\n",
      "|   0.5   | 0.749244712991 |  0.946564885496 |\n",
      "|   0.75  | 0.80829015544  |  0.595419847328 |\n",
      "|   0.9   | 0.913043478261 | 0.0801526717557 |\n",
      "+---------+----------------+-----------------+\n",
      "[5 rows x 3 columns]\n",
      "}\n"
     ]
    }
   ],
   "source": [
    "print(metrics)"
   ]
  },
  {
   "cell_type": "markdown",
   "metadata": {},
   "source": [
    "### Make predictions in the future"
   ]
  },
  {
   "cell_type": "markdown",
   "metadata": {},
   "source": [
    "Here the question to ask is will they churn after a certain period of time. To validate we can see if they user has used us after that evaluation period. Voila! I was confusing it with expiration time (customer churn not usage churn)"
   ]
  },
  {
   "cell_type": "code",
   "execution_count": 33,
   "metadata": {
    "ExecuteTime": {
     "end_time": "2016-06-02T05:34:36.392595",
     "start_time": "2016-06-02T05:34:36.003046"
    },
    "collapsed": false
   },
   "outputs": [
    {
     "name": "stdout",
     "output_type": "stream",
     "text": [
      "PROGRESS: Making a churn forecast for the time window:\n",
      "PROGRESS: --------------------------------------------------\n",
      "PROGRESS:  Start : 2011-12-09 11:20:00\n",
      "PROGRESS:  End   : 2012-01-08 11:20:00\n",
      "PROGRESS: --------------------------------------------------\n",
      "PROGRESS: Grouping dataset by user.\n",
      "PROGRESS: Resampling grouped observation_data by time-period 1 day, 0:00:00."
     ]
    },
    {
     "data": {
      "text/html": [
       "<pre>StockCode is a categorical variable with too many different values (4063) and will be ignored.</pre>"
      ],
      "text/plain": [
       "StockCode is a categorical variable with too many different values (4063) and will be ignored."
      ]
     },
     "metadata": {},
     "output_type": "display_data"
    },
    {
     "name": "stdout",
     "output_type": "stream",
     "text": [
      "\n",
      "PROGRESS: Generating features for boundary 2011-12-09 11:20:00.\n",
      "PROGRESS: Joining user_data with aggregated features.\n",
      "+------------+-----------------+\n",
      "| CustomerID |   probability   |\n",
      "+------------+-----------------+\n",
      "|   13761    |  0.661192655563 |\n",
      "|   12789    |  0.831865549088 |\n",
      "|   12377    |  0.929451584816 |\n",
      "|   13715    |  0.852380812168 |\n",
      "|   17725    |  0.501834571362 |\n",
      "|   15437    |  0.89022809267  |\n",
      "|   12739    |  0.785794794559 |\n",
      "|   16523    | 0.0530522763729 |\n",
      "|   14711    |  0.599178552628 |\n",
      "|   12851    |  0.785794794559 |\n",
      "+------------+-----------------+\n",
      "[442 rows x 2 columns]\n",
      "\n"
     ]
    }
   ],
   "source": [
    "# Make predictions in the future.\n",
    "\n",
    "predictions_trial = model.predict(valid_trial, user_data = userdata)\n",
    "predictions_trial.print_rows()"
   ]
  },
  {
   "cell_type": "code",
   "execution_count": 34,
   "metadata": {
    "ExecuteTime": {
     "end_time": "2016-06-02T05:34:46.979966",
     "start_time": "2016-06-02T05:34:46.961675"
    },
    "collapsed": false
   },
   "outputs": [
    {
     "name": "stdout",
     "output_type": "stream",
     "text": [
      "+------------+----------------+\n",
      "| CustomerID |  probability   |\n",
      "+------------+----------------+\n",
      "|   12811    | 0.933722198009 |\n",
      "|   12377    | 0.929451584816 |\n",
      "|   12686    | 0.929451584816 |\n",
      "|   16980    | 0.928296506405 |\n",
      "|   13863    | 0.926480472088 |\n",
      "|   15442    | 0.925726234913 |\n",
      "|   16721    | 0.922811865807 |\n",
      "|   15083    | 0.922811865807 |\n",
      "|   12881    | 0.922811865807 |\n",
      "|   13043    | 0.922811865807 |\n",
      "|   15303    | 0.922811865807 |\n",
      "|   14770    | 0.920113921165 |\n",
      "|   17990    | 0.920113921165 |\n",
      "|   12866    | 0.914489269257 |\n",
      "|   16617    | 0.914061486721 |\n",
      "|   16947    | 0.914061486721 |\n",
      "|   16957    | 0.914061486721 |\n",
      "|   14339    | 0.914061486721 |\n",
      "|   18056    | 0.910906493664 |\n",
      "|   12945    | 0.909635961056 |\n",
      "+------------+----------------+\n",
      "[442 rows x 2 columns]\n",
      "\n"
     ]
    }
   ],
   "source": [
    "predictions_trial.sort('probability', ascending=False).print_rows(20,max_column_width=20)"
   ]
  },
  {
   "cell_type": "code",
   "execution_count": 16,
   "metadata": {
    "collapsed": false
   },
   "outputs": [
    {
     "name": "stdout",
     "output_type": "stream",
     "text": [
      "+------------+----------------+\n",
      "| CustomerID |  probability   |\n",
      "+------------+----------------+\n",
      "|   16086    | 0.764054119587 |\n",
      "|   12990    | 0.760963022709 |\n",
      "|   12993    | 0.760963022709 |\n",
      "|   14080    | 0.760963022709 |\n",
      "|   16596    | 0.760963022709 |\n",
      "|   16638    | 0.760963022709 |\n",
      "|   16784    | 0.760963022709 |\n",
      "|   14987    | 0.760963022709 |\n",
      "|   15532    | 0.760936200619 |\n",
      "|   15025    | 0.760936200619 |\n",
      "|   17772    | 0.760792136192 |\n",
      "|   17075    | 0.757927417755 |\n",
      "|   14049    | 0.757856547832 |\n",
      "|   13972    | 0.757027626038 |\n",
      "|   15783    | 0.752182364464 |\n",
      "|   13329    | 0.748927116394 |\n",
      "|   17636    | 0.74851256609  |\n",
      "|   16527    | 0.744530022144 |\n",
      "|   13061    | 0.744530022144 |\n",
      "|   16122    | 0.740379273891 |\n",
      "+------------+----------------+\n",
      "[100 rows x 2 columns]\n",
      "\n"
     ]
    }
   ],
   "source": [
    "predictions_trial.sort('probability', ascending=False)[200:300] .print_rows(20,max_column_width=20)"
   ]
  },
  {
   "cell_type": "markdown",
   "metadata": {},
   "source": [
    "### Inside the model"
   ]
  },
  {
   "cell_type": "code",
   "execution_count": 35,
   "metadata": {
    "ExecuteTime": {
     "end_time": "2016-06-02T05:34:57.895687",
     "start_time": "2016-06-02T05:34:57.869132"
    },
    "collapsed": false
   },
   "outputs": [
    {
     "data": {
      "text/plain": [
       "Class                         : BoostedTreesClassifier\n",
       "\n",
       "Schema\n",
       "------\n",
       "Number of examples            : 9196\n",
       "Number of feature columns     : 23\n",
       "Number of unpacked features   : 1290\n",
       "Number of classes             : 2\n",
       "\n",
       "Settings\n",
       "--------\n",
       "Number of trees               : 10\n",
       "Max tree depth                : 6\n",
       "Training time (sec)           : 0.3024\n",
       "Training accuracy             : 0.8034\n",
       "Validation accuracy           : None\n",
       "Training log_loss             : 0.4608\n",
       "Validation log_loss           : None"
      ]
     },
     "execution_count": 35,
     "metadata": {},
     "output_type": "execute_result"
    }
   ],
   "source": [
    "model.trained_model"
   ]
  },
  {
   "cell_type": "code",
   "execution_count": 18,
   "metadata": {
    "collapsed": false
   },
   "outputs": [
    {
     "data": {
      "text/html": [
       "<div style=\"max-height:1000px;max-width:1500px;overflow:auto;\"><table frame=\"box\" rules=\"cols\">\n",
       "    <tr>\n",
       "        <th style=\"padding-left: 1em; padding-right: 1em; text-align: center\">name</th>\n",
       "        <th style=\"padding-left: 1em; padding-right: 1em; text-align: center\">index</th>\n",
       "        <th style=\"padding-left: 1em; padding-right: 1em; text-align: center\">count</th>\n",
       "    </tr>\n",
       "    <tr>\n",
       "        <td style=\"padding-left: 1em; padding-right: 1em; text-align: center; vertical-align: top\">Quantity_features_7</td>\n",
       "        <td style=\"padding-left: 1em; padding-right: 1em; text-align: center; vertical-align: top\">user_user_timesinceseen</td>\n",
       "        <td style=\"padding-left: 1em; padding-right: 1em; text-align: center; vertical-align: top\">73</td>\n",
       "    </tr>\n",
       "    <tr>\n",
       "        <td style=\"padding-left: 1em; padding-right: 1em; text-align: center; vertical-align: top\">Age</td>\n",
       "        <td style=\"padding-left: 1em; padding-right: 1em; text-align: center; vertical-align: top\">None</td>\n",
       "        <td style=\"padding-left: 1em; padding-right: 1em; text-align: center; vertical-align: top\">29</td>\n",
       "    </tr>\n",
       "    <tr>\n",
       "        <td style=\"padding-left: 1em; padding-right: 1em; text-align: center; vertical-align: top\">Quantity_features_90</td>\n",
       "        <td style=\"padding-left: 1em; padding-right: 1em; text-align: center; vertical-align: top\">sum_sum</td>\n",
       "        <td style=\"padding-left: 1em; padding-right: 1em; text-align: center; vertical-align: top\">12</td>\n",
       "    </tr>\n",
       "    <tr>\n",
       "        <td style=\"padding-left: 1em; padding-right: 1em; text-align: center; vertical-align: top\">Quantity_features_60</td>\n",
       "        <td style=\"padding-left: 1em; padding-right: 1em; text-align: center; vertical-align: top\">count_sum</td>\n",
       "        <td style=\"padding-left: 1em; padding-right: 1em; text-align: center; vertical-align: top\">12</td>\n",
       "    </tr>\n",
       "    <tr>\n",
       "        <td style=\"padding-left: 1em; padding-right: 1em; text-align: center; vertical-align: top\">Quantity_features_60</td>\n",
       "        <td style=\"padding-left: 1em; padding-right: 1em; text-align: center; vertical-align: top\">sum_ratio</td>\n",
       "        <td style=\"padding-left: 1em; padding-right: 1em; text-align: center; vertical-align: top\">11</td>\n",
       "    </tr>\n",
       "    <tr>\n",
       "        <td style=\"padding-left: 1em; padding-right: 1em; text-align: center; vertical-align: top\">UnitPrice_features_7</td>\n",
       "        <td style=\"padding-left: 1em; padding-right: 1em; text-align: center; vertical-align: top\">sum_sum</td>\n",
       "        <td style=\"padding-left: 1em; padding-right: 1em; text-align: center; vertical-align: top\">11</td>\n",
       "    </tr>\n",
       "    <tr>\n",
       "        <td style=\"padding-left: 1em; padding-right: 1em; text-align: center; vertical-align: top\">Quantity_features_60</td>\n",
       "        <td style=\"padding-left: 1em; padding-right: 1em; text-align: center; vertical-align: top\">sum_sum</td>\n",
       "        <td style=\"padding-left: 1em; padding-right: 1em; text-align: center; vertical-align: top\">10</td>\n",
       "    </tr>\n",
       "    <tr>\n",
       "        <td style=\"padding-left: 1em; padding-right: 1em; text-align: center; vertical-align: top\">Quantity_features_90</td>\n",
       "        <td style=\"padding-left: 1em; padding-right: 1em; text-align: center; vertical-align: top\">sum_firstinteraction_time<br>sinceseen ...</td>\n",
       "        <td style=\"padding-left: 1em; padding-right: 1em; text-align: center; vertical-align: top\">10</td>\n",
       "    </tr>\n",
       "    <tr>\n",
       "        <td style=\"padding-left: 1em; padding-right: 1em; text-align: center; vertical-align: top\">UnitPrice_features_90</td>\n",
       "        <td style=\"padding-left: 1em; padding-right: 1em; text-align: center; vertical-align: top\">sum_sum</td>\n",
       "        <td style=\"padding-left: 1em; padding-right: 1em; text-align: center; vertical-align: top\">9</td>\n",
       "    </tr>\n",
       "    <tr>\n",
       "        <td style=\"padding-left: 1em; padding-right: 1em; text-align: center; vertical-align: top\">UnitPrice_features_90</td>\n",
       "        <td style=\"padding-left: 1em; padding-right: 1em; text-align: center; vertical-align: top\">sum_max</td>\n",
       "        <td style=\"padding-left: 1em; padding-right: 1em; text-align: center; vertical-align: top\">8</td>\n",
       "    </tr>\n",
       "</table>\n",
       "[2318 rows x 3 columns]<br/>Note: Only the head of the SFrame is printed.<br/>You can use print_rows(num_rows=m, num_columns=n) to print more rows and columns.\n",
       "</div>"
      ],
      "text/plain": [
       "Columns:\n",
       "\tname\tstr\n",
       "\tindex\tstr\n",
       "\tcount\tint\n",
       "\n",
       "Rows: 2318\n",
       "\n",
       "Data:\n",
       "+-----------------------+-------------------------------+-------+\n",
       "|          name         |             index             | count |\n",
       "+-----------------------+-------------------------------+-------+\n",
       "|  Quantity_features_7  |    user_user_timesinceseen    |   73  |\n",
       "|          Age          |              None             |   29  |\n",
       "|  Quantity_features_90 |            sum_sum            |   12  |\n",
       "|  Quantity_features_60 |           count_sum           |   12  |\n",
       "|  Quantity_features_60 |           sum_ratio           |   11  |\n",
       "|  UnitPrice_features_7 |            sum_sum            |   11  |\n",
       "|  Quantity_features_60 |            sum_sum            |   10  |\n",
       "|  Quantity_features_90 | sum_firstinteraction_times... |   10  |\n",
       "| UnitPrice_features_90 |            sum_sum            |   9   |\n",
       "| UnitPrice_features_90 |            sum_max            |   8   |\n",
       "+-----------------------+-------------------------------+-------+\n",
       "[2318 rows x 3 columns]\n",
       "Note: Only the head of the SFrame is printed.\n",
       "You can use print_rows(num_rows=m, num_columns=n) to print more rows and columns."
      ]
     },
     "execution_count": 18,
     "metadata": {},
     "output_type": "execute_result"
    }
   ],
   "source": [
    "model.trained_model.get_feature_importance()"
   ]
  }
 ],
 "metadata": {
  "kernelspec": {
   "display_name": "Python 2",
   "language": "python",
   "name": "python2"
  },
  "language_info": {
   "codemirror_mode": {
    "name": "ipython",
    "version": 2
   },
   "file_extension": ".py",
   "mimetype": "text/x-python",
   "name": "python",
   "nbconvert_exporter": "python",
   "pygments_lexer": "ipython2",
   "version": "2.7.11"
  },
  "toc": {
   "toc_cell": false,
   "toc_number_sections": false,
   "toc_section_display": "none",
   "toc_threshold": "2",
   "toc_window_display": true
  }
 },
 "nbformat": 4,
 "nbformat_minor": 0
}
