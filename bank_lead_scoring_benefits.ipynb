{
 "cells": [
  {
   "cell_type": "markdown",
   "metadata": {},
   "source": [
    "# Exploring the benefits of Lead Scoring\n",
    "This notebook explore the benefits of Lead Scoring by comparing the converstion rate and return on investment for calling 20% of prospects on a contact list. Two approaches are compared: \n",
    "* Unscored: Take a random selection of 20% of the contact list\n",
    "* Scored: Score each prospect using a simple machine learning model and call the top 20%\n",
    "\n",
    "The contact list is taken from a real world banking example. The [data](https://archive.ics.uci.edu/ml/datasets/Bank+Marketing) contains 41k CRM records from a Portugues bank during the year 2010. "
   ]
  },
  {
   "cell_type": "markdown",
   "metadata": {},
   "source": [
    "## Measuring the benefits of lead scoring\n",
    "To measure the benefits of lead scoring, we define a function to calculate the Conversion Rate \n",
    "\n",
    "$CVR =  \\frac{sale}{calls} $ \n",
    "\n",
    "and another to calculate Return on Investment \n",
    "\n",
    "$ROI = \\frac{profit - cost}{cost} $ \n",
    "\n",
    "where $profit = unitProfit*sales$ and $cost = unitCost*calls$\n",
    "\n",
    "We have assumed the unit cost is \\$5 and unit profit \\$45.  These are very rought estimates and have a big effect on ROI and need to be future refined"
   ]
  },
  {
   "cell_type": "code",
   "execution_count": 1,
   "metadata": {
    "ExecuteTime": {
     "end_time": "2016-06-02T04:30:37.817490",
     "start_time": "2016-06-02T04:30:37.805478"
    },
    "collapsed": false
   },
   "outputs": [],
   "source": [
    "def calc_call_roi(contactList, leadScore, percentToCall, cost = 5.00, profit = 45.00): \n",
    "    \n",
    "    sales, calls = calc_calls(contactList, leadScore, percentToCall)\n",
    "    return (sales*profit - calls*cost) / float(calls*cost)\n",
    "\n",
    "def calc_call_cvr(contactList, leadScore, percentToCall):\n",
    "\n",
    "    sales, calls = calc_calls(contactList, leadScore, percentToCall)  \n",
    "    return sales / float(calls)\n",
    "\n",
    "def calc_calls(contactList, leadScore, percentToCall):\n",
    "    \n",
    "    calls = int(len(contactList)*percentToCall)\n",
    "    if 'lead_score' in contactList.column_names():\n",
    "        contactList.remove_column('lead_score')\n",
    "    contactList = contactList.add_column(leadScore,name='lead_score')\n",
    "    \n",
    "    callList = contactList.topk('lead_score', k=calls)\n",
    "    sales = len(callList[callList['y']=='yes']) \n",
    "    \n",
    "    return  sales, calls"
   ]
  },
  {
   "cell_type": "markdown",
   "metadata": {},
   "source": [
    "## Load Data"
   ]
  },
  {
   "cell_type": "code",
   "execution_count": 2,
   "metadata": {
    "ExecuteTime": {
     "end_time": "2016-06-02T04:30:40.899710",
     "start_time": "2016-06-02T04:30:37.842618"
    },
    "collapsed": false
   },
   "outputs": [
    {
     "name": "stderr",
     "output_type": "stream",
     "text": [
      "2016-06-02 04:30:40,292 [INFO] graphlab.cython.cy_server, 176: GraphLab Create v1.9 started. Logging: /tmp/graphlab_server_1464841838.log\n"
     ]
    },
    {
     "name": "stdout",
     "output_type": "stream",
     "text": [
      "This non-commercial license of GraphLab Create is assigned to kevin.mcisaac@gmail.com and will expire on November 06, 2016. For commercial licensing options, visit https://dato.com/buy/.\n"
     ]
    }
   ],
   "source": [
    "import graphlab as gl\n",
    "bank = gl.SFrame.read_csv('Data/bank-additional/bank-additional-full.csv', delimiter=';', verbose=False)\n",
    "train, validate = bank.random_split(0.8)"
   ]
  },
  {
   "cell_type": "markdown",
   "metadata": {},
   "source": [
    "For the first approach we call a random 20% of the prospect. Note the RIO can vary from -2.8% to 11% depending on the luck of the draw! "
   ]
  },
  {
   "cell_type": "code",
   "execution_count": 3,
   "metadata": {
    "ExecuteTime": {
     "end_time": "2016-06-02T04:30:41.568498",
     "start_time": "2016-06-02T04:30:40.900894"
    },
    "collapsed": false
   },
   "outputs": [
    {
     "name": "stdout",
     "output_type": "stream",
     "text": [
      "Call random 20%: ROI = 8.81%, CVR =  12.09%\n",
      "Call random 20%: ROI = -10.33%, CVR =  9.96%\n",
      "Call random 20%: ROI = -3.77%, CVR =  10.69%\n",
      "Call random 20%: ROI = 3.89%, CVR =  11.54%\n"
     ]
    }
   ],
   "source": [
    "import random\n",
    "for i in range(1,5):\n",
    "    randLeadScores = gl.SArray([random.random() for _ in validate])\n",
    "    initROI = calc_call_roi(validate, randLeadScores, 0.2)\n",
    "    initCVR = calc_call_cvr(validate, randLeadScores, 0.2)\n",
    "    print 'Call random 20%: ROI = {0:.2%}, CVR =  {1:.2%}'.format(initROI, initCVR)"
   ]
  },
  {
   "cell_type": "markdown",
   "metadata": {},
   "source": [
    "## Create a machine learning model to score leads"
   ]
  },
  {
   "cell_type": "code",
   "execution_count": 4,
   "metadata": {
    "ExecuteTime": {
     "end_time": "2016-06-02T04:30:43.514126",
     "start_time": "2016-06-02T04:30:41.569966"
    },
    "collapsed": false,
    "slideshow": {
     "slide_type": "slide"
    }
   },
   "outputs": [
    {
     "name": "stdout",
     "output_type": "stream",
     "text": [
      "accuracy: 0.895907, precision: 0.668639, recall: 0.23275\n"
     ]
    }
   ],
   "source": [
    "features = set(train.column_names()) - set(['duration', 'y'])\n",
    "\n",
    "toolkit_model = gl.classifier.boosted_trees_classifier.create(train, features = features, target='y', verbose=False,\n",
    "                                                             early_stopping_rounds=10, max_iterations=500 )\n",
    "results = toolkit_model.evaluate(validate)\n",
    "print \"accuracy: %g, precision: %g, recall: %g\" % (results['accuracy'], results['precision'], results['recall'])"
   ]
  },
  {
   "cell_type": "markdown",
   "metadata": {},
   "source": [
    "Model can be considered accurate as it correctly predicts the purchasing decisions of ~90% of the contacts. However there is room for improvement as it only 64% of its predictions actually convert to sales and only 24% of actual sales were predicted by the model. "
   ]
  },
  {
   "cell_type": "code",
   "execution_count": 5,
   "metadata": {
    "ExecuteTime": {
     "end_time": "2016-06-02T04:30:43.610077",
     "start_time": "2016-06-02T04:30:43.515205"
    },
    "collapsed": false
   },
   "outputs": [
    {
     "name": "stdout",
     "output_type": "stream",
     "text": [
      "Call top 20%: ROI = 237.91%, CVR =  37.55%\n"
     ]
    }
   ],
   "source": [
    "toolkitLeadScore = toolkit_model.predict(validate,output_type='probability')\n",
    "toolkitROI = calc_call_roi(validate, toolkitLeadScore, 0.2 )\n",
    "toolkitCVR = calc_call_cvr(validate, toolkitLeadScore, 0.2 )\n",
    "\n",
    "print 'Call top 20%: ROI = {0:.2%}, CVR =  {1:.2%}'.format(toolkitROI, toolkitCVR)"
   ]
  },
  {
   "cell_type": "markdown",
   "metadata": {},
   "source": [
    "Even still the converstion rates on the top 20% is 3 times better than choosing random contacts and teh ROI has increased from 4.1% to %239%. So even a simple model is very well worth implementing"
   ]
  }
 ],
 "metadata": {
  "kernelspec": {
   "display_name": "Python 2",
   "language": "python",
   "name": "python2"
  },
  "language_info": {
   "codemirror_mode": {
    "name": "ipython",
    "version": 2
   },
   "file_extension": ".py",
   "mimetype": "text/x-python",
   "name": "python",
   "nbconvert_exporter": "python",
   "pygments_lexer": "ipython2",
   "version": "2.7.11"
  },
  "latex_envs": {
   "bibliofile": "biblio.bib",
   "cite_by": "apalike",
   "current_citInitial": 1,
   "eqLabelWithNumbers": true,
   "eqNumInitial": 0
  },
  "toc": {
   "toc_cell": false,
   "toc_number_sections": false,
   "toc_section_display": "none",
   "toc_threshold": "2",
   "toc_window_display": true
  }
 },
 "nbformat": 4,
 "nbformat_minor": 0
}
