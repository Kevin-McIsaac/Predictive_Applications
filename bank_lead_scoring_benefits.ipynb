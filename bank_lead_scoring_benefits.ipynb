{
 "cells": [
  {
   "cell_type": "markdown",
   "metadata": {},
   "source": [
    "# How to profit from Data Science: Lead  Scoring\n",
    "\n",
    "The [2015 McKinsey report](http://www.mckinsey.com/industries/telecommunications/our-insights/telcos-the-untapped-promise-of-big-data?cid=digistrat-eml-alt-mkq-mck-oth-1606) on the use of Big Data in global telecom companies showed 50% of organisation saw no increase in profitability, while 5% found significant benefit. Why?\n",
    "\n",
    "A common problem is the Data Science opportunity is framed in the context of “Big Data”. This risks the project focusing too early on the “who & how” of storing and managing that \"Big Data\". This inevitabily leads to an IT centric project to deploy a massive IT infrastructure (e.g., data warehouse, data lake) that becomes disconnected from the original business problem and hence the bueinss benefits. \n",
    "\n",
    "A better approach is to focus on the “Predictive Applications that enriches critical CRM activities\" to ensure the project is driven by the “what & why” of the business outcomes and remains a business, not technology, project. \n",
    "\n",
    "## Enhancing the CRM Process\n",
    "\n",
    "A typical (simplified) CRM process look like this:\n",
    "![Enhancing the CRM Process](CRM_Lifecycle.png)\n",
    "\n",
    "Under each CRM phases we have listed touch points where a Predictive Application can increase the effectiveness or efficiency of a critical CRM activity to boost revenue and/or lower cost.  Four common starting points are:\n",
    "\n",
    "* __[Lead Scoring](http://jupyter1.datascienceinstitute.com.au:8888/notebooks/Notebooks/Predictive_Applications/bank_lead_scoring_benefits.ipynb)__: This is the process of ranking leads to prioritise sales resources on the customers who are most likely to buy now.  The benefits are increased sales ROI and conversion rate, which translate to a lower cost of sale and higher revenues. There is also the benefit of a happier, more engaged salesforce. \n",
    "* __[Customer Lifetime Value (CLV)](http://jupyter1.datascienceinstitute.com.au:8888/notebooks/Notebooks/Predictive_Applications/Online_Retail_CLV.ipynb)__: This is the present value of the future cash flows attributed to the customer during his/her entire relationship with the company. CLV is considered an essential business metric as it shifts focus from quarterly revenues to long-term profits.  Furthermore, the sum over all CLVs estimates the value of the customer base, which can then be managed as an asset.\n",
    "* __[Churn Prediction](http://jupyter1.datascienceinstitute.com.au:8888/notebooks/Notebooks/Predictive_Applications/customer-churn-prediction.ipynb)__: This answers the question “Which customers are most likely to leave in the next period?” Given the high cost of acquiring new customers there is a strong incentive to take action to retain a customer. Organisations typically employ retention actions (e.g., a targeted phone call or mailing campaigns), with offers of special benefits or discounts. The difficult questions becomes “who, how, and at what cost?” \n",
    "* __Recommendation Engine__: This predicts which products a prospect is likely to purchase based on past behaviour (e.g., past purchases, activity, ratings). It was made famous by Amazon and Netflix, who provide recommendations on what to buy or view. The benefit is high conversation rates and an increase in basket size. "
   ]
  },
  {
   "cell_type": "markdown",
   "metadata": {},
   "source": [
    "## Lead scoring\n",
    "This notebook explore the benefits of Lead Scoring by comparing the converstion rate and return on investment for calling 20% of prospects on a contact list. Two approaches are compared: \n",
    "* Unscored: Take a random selection of 20% of the contact list\n",
    "* Scored: Score each prospect using a simple machine learning model and call the top 20%\n",
    "\n",
    "The contact list is taken from a real world banking example. The [data](https://archive.ics.uci.edu/ml/datasets/Bank+Marketing) contains 41k CRM records from a Portugues bank during the year 2010. "
   ]
  },
  {
   "cell_type": "markdown",
   "metadata": {},
   "source": [
    "## Measuring the benefits of lead scoring\n",
    "To measure the benefits of lead scoring, we define a function to calculate the Conversion Rate \n",
    "\n",
    "$CVR =  \\frac{sale}{calls} $ \n",
    "\n",
    "and another to calculate Return on Investment \n",
    "\n",
    "$ROI = \\frac{profit - cost}{cost} $ \n",
    "\n",
    "where $profit = unitProfit*sales$ and $cost = unitCost*calls$\n",
    "\n",
    "We have assumed the unit cost is \\$5 and unit profit \\$45.  These are very rough estimates and small changes have a big effect on ROI so they need to be refined."
   ]
  },
  {
   "cell_type": "code",
   "execution_count": 1,
   "metadata": {
    "ExecuteTime": {
     "end_time": "2016-06-06T22:13:33.289592",
     "start_time": "2016-06-06T22:13:33.275786"
    },
    "collapsed": false
   },
   "outputs": [],
   "source": [
    "def calc_call_roi(contactList, leadScore, percentToCall, cost = 5.00, profit = 45.00): \n",
    "    \n",
    "    sales, calls = calc_calls(contactList, leadScore, percentToCall)\n",
    "    return (sales*profit - calls*cost) / float(calls*cost)\n",
    "\n",
    "def calc_call_cvr(contactList, leadScore, percentToCall):\n",
    "\n",
    "    sales, calls = calc_calls(contactList, leadScore, percentToCall)  \n",
    "    return sales / float(calls)\n",
    "\n",
    "def calc_calls(contactList, leadScore, percentToCall):\n",
    "    \n",
    "    calls = int(len(contactList)*percentToCall)\n",
    "    if 'lead_score' in contactList.column_names():\n",
    "        contactList.remove_column('lead_score')\n",
    "    contactList = contactList.add_column(leadScore,name='lead_score')\n",
    "    \n",
    "    callList = contactList.topk('lead_score', k=calls)\n",
    "    sales = len(callList[callList['y']=='yes']) \n",
    "    \n",
    "    return  sales, calls"
   ]
  },
  {
   "cell_type": "markdown",
   "metadata": {},
   "source": [
    "First we load the data and break it into training and validation datasets. This is a common Data Science strategy that enable the accuracy of the trained model to be estimated based on data that is has not yet seen. "
   ]
  },
  {
   "cell_type": "code",
   "execution_count": 2,
   "metadata": {
    "ExecuteTime": {
     "end_time": "2016-06-06T22:14:53.066449",
     "start_time": "2016-06-06T22:14:48.169420"
    },
    "collapsed": false
   },
   "outputs": [
    {
     "name": "stderr",
     "output_type": "stream",
     "text": [
      "[INFO] graphlab.cython.cy_server: GraphLab Create v1.10 started. Logging: /tmp/graphlab_server_1465251290.log\n",
      "INFO:graphlab.cython.cy_server:GraphLab Create v1.10 started. Logging: /tmp/graphlab_server_1465251290.log\n"
     ]
    },
    {
     "name": "stdout",
     "output_type": "stream",
     "text": [
      "This non-commercial license of GraphLab Create is assigned to kevin.mcisaac@gmail.com and will expire on November 06, 2016. For commercial licensing options, visit https://dato.com/buy/.\n"
     ]
    }
   ],
   "source": [
    "import graphlab as gl\n",
    "bank = gl.SFrame.read_csv('Data/bank-additional/bank-additional-full.csv', delimiter=';', verbose=False)\n",
    "train, validate = bank.random_split(0.8)"
   ]
  },
  {
   "cell_type": "markdown",
   "metadata": {},
   "source": [
    "For the first approach we phone a random 20% of the prospect. Note the ROI can vary greatly depending on the luck of the draw so we run this a few time! "
   ]
  },
  {
   "cell_type": "code",
   "execution_count": 12,
   "metadata": {
    "ExecuteTime": {
     "end_time": "2016-06-06T22:21:18.882372",
     "start_time": "2016-06-06T22:21:17.889921"
    },
    "collapsed": false
   },
   "outputs": [
    {
     "name": "stdout",
     "output_type": "stream",
     "text": [
      "Call random 20%\n",
      "ROI = 15.97%, CVR =  12.89%\n",
      "ROI = 0.73%, CVR =  11.19%\n",
      "ROI = -1.45%, CVR =  10.95%\n",
      "ROI = -5.81%, CVR =  10.47%\n",
      "ROI = -3.09%, CVR =  10.77%\n",
      "Mean ROI = 1.27%, CVR =  11.25%\n"
     ]
    }
   ],
   "source": [
    "import random\n",
    "meanROI = 0\n",
    "meanCVR = 0\n",
    "n = 5\n",
    "print 'Call random 20%'\n",
    "for i in range(0,5):\n",
    "    randLeadScores = gl.SArray([random.random() for _ in validate])\n",
    "    initROI = calc_call_roi(validate, randLeadScores, 0.2)\n",
    "    initCVR = calc_call_cvr(validate, randLeadScores, 0.2)\n",
    "    meanROI += initROI\n",
    "    meanCVR += initCVR\n",
    "    print 'ROI = {0:.2%}, CVR =  {1:.2%}'.format(initROI, initCVR)\n",
    "    \n",
    "meanROI = meanROI/n\n",
    "meanCVR = meanCVR/n\n",
    "print 'Mean ROI = {0:.2%}, CVR =  {1:.2%}'.format(meanROI, meanCVR)"
   ]
  },
  {
   "cell_type": "markdown",
   "metadata": {},
   "source": [
    "## Using a machine learning model to score leads"
   ]
  },
  {
   "cell_type": "markdown",
   "metadata": {},
   "source": [
    "Using the GraphLab machine learning API we can very quickly train a model based on the historical call won/lost data from the CRM then estimate the accuracy of hte model against the validation set.\n",
    "\n",
    "We need to exclude the following features\n",
    "\n",
    "* y: This is the outcome we are trying to predict.\n",
    "* duration: last contact duration, in seconds. This is related to the target as when duration=0 then y='no' as so much be discarded\n",
    "\n",
    "We also exclude the following quarterly indicators, as its not clear how they impact the model, ie., is everybody more likely to take out an account when the indicators are better. \n",
    "\n",
    "* emp.var.rate: employment variation rate - quarterly indicator (numeric)\n",
    "* cons.price.idx: consumer price index - monthly indicator (numeric) \n",
    "* cons.conf.idx: consumer confidence index - monthly indicator (numeric) \n",
    "* euribor3m: euribor 3 month rate - daily indicator (numeric)\n",
    "* nr.employed: number of employees - quarterly indicator (numeric)"
   ]
  },
  {
   "cell_type": "code",
   "execution_count": 23,
   "metadata": {
    "ExecuteTime": {
     "end_time": "2016-06-06T22:39:21.207367",
     "start_time": "2016-06-06T22:39:19.733069"
    },
    "collapsed": false,
    "scrolled": true,
    "slideshow": {
     "slide_type": "slide"
    }
   },
   "outputs": [
    {
     "name": "stdout",
     "output_type": "stream",
     "text": [
      "accuracy: 0.903823, precision: 0.646865, recall: 0.221719\n"
     ]
    }
   ],
   "source": [
    "features = set(train.column_names()) - set(['y', 'duration', 'emp.var.rate','cons.price.idx', 'cons.conf.idx', 'euribor3m', 'nr.employed'])\n",
    "\n",
    "simple_model = gl.classifier.boosted_trees_classifier.create(train, features = features, target='y', verbose=False,\n",
    "                                                    max_depth=5, early_stopping_rounds=60, max_iterations=500,\n",
    "                                                         metric='auc' ,random_seed=19374  )\n",
    "results = simple_model.evaluate(validate)\n",
    "print \"accuracy: %g, precision: %g, recall: %g\" % (results['accuracy'], results['precision'], results['recall'])"
   ]
  },
  {
   "cell_type": "markdown",
   "metadata": {},
   "source": [
    "This model correctly predicts the purchasing decisions of ~90% of the contacts, however there is room for improvement as only 66% of its predictions convert to sales and only 23% of actual sales were predicted by the model. Even still, we shall see that this leads to significant benefits.  \n",
    "\n",
    "We now use the model to predict the probability of a sale for each contact, then measure the ROI and CVR for the top 20% of opportunities."
   ]
  },
  {
   "cell_type": "code",
   "execution_count": 24,
   "metadata": {
    "ExecuteTime": {
     "end_time": "2016-06-06T22:40:26.202063",
     "start_time": "2016-06-06T22:40:26.084098"
    },
    "collapsed": false
   },
   "outputs": [
    {
     "name": "stdout",
     "output_type": "stream",
     "text": [
      "Call top 20%: ROI = 172.23%, CVR =  30.25%\n"
     ]
    }
   ],
   "source": [
    "toolkitLeadScore = simple_model.predict(validate,output_type='probability')\n",
    "toolkitROI = calc_call_roi(validate, toolkitLeadScore, 0.2 )\n",
    "toolkitCVR = calc_call_cvr(validate, toolkitLeadScore, 0.2 )\n",
    "\n",
    "print 'Call top 20%: ROI = {0:.2%}, CVR =  {1:.2%}'.format(toolkitROI, toolkitCVR)"
   ]
  },
  {
   "cell_type": "markdown",
   "metadata": {},
   "source": [
    "Even with this trivlal model we see that the converstion rates is 3 times better than choosing random contacts and the ROI is 100 times better.\n",
    "\n",
    "There are two obvious ways to improve this\n",
    "1. Enrich the data with additional demographic and behavioural data\n",
    "2. Estimate the CLV and use that as a second score"
   ]
  },
  {
   "cell_type": "code",
   "execution_count": null,
   "metadata": {
    "collapsed": true
   },
   "outputs": [],
   "source": []
  }
 ],
 "metadata": {
  "kernelspec": {
   "display_name": "Python 2",
   "language": "python",
   "name": "python2"
  },
  "language_info": {
   "codemirror_mode": {
    "name": "ipython",
    "version": 2
   },
   "file_extension": ".py",
   "mimetype": "text/x-python",
   "name": "python",
   "nbconvert_exporter": "python",
   "pygments_lexer": "ipython2",
   "version": "2.7.11"
  },
  "latex_envs": {
   "bibliofile": "biblio.bib",
   "cite_by": "apalike",
   "current_citInitial": 1,
   "eqLabelWithNumbers": true,
   "eqNumInitial": 0
  },
  "toc": {
   "toc_cell": false,
   "toc_number_sections": false,
   "toc_section_display": "none",
   "toc_threshold": "2",
   "toc_window_display": true
  },
  "toc_position": {
   "height": "183px",
   "left": "744.594px",
   "right": "20px",
   "top": "20px",
   "width": "332px"
  }
 },
 "nbformat": 4,
 "nbformat_minor": 0
}
