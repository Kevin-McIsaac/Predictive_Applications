{
 "cells": [
  {
   "cell_type": "markdown",
   "metadata": {},
   "source": [
    "# How to profit from Data Science: Churn Prediction\n",
    "\n",
    "The [2015 McKinsey report](http://www.mckinsey.com/industries/telecommunications/our-insights/telcos-the-untapped-promise-of-big-data?cid=digistrat-eml-alt-mkq-mck-oth-1606) on the use of Big Data in global telecom companies showed 50% of organisation saw no increase in profitability, while 5% found significant benefit. Why?\n",
    "\n",
    "A common problem is the Data Science opportunity is framed in the context of “Big Data”. This risks the project focusing too early on the “who & how” of storing and managing that \"Big Data\". This inevitabily leads to an IT centric project to deploy a massive IT infrastructure (e.g., data warehouse, data lake) that becomes disconnected from the original business problem and hence the bueinss benefits. \n",
    "\n",
    "A better approach is to focus on the “Predictive Applications that enriches critical CRM activities\" to ensure the project is driven by the “what & why” of the business outcomes and remains a business, not technology, project. \n",
    "\n",
    "## Enhancing the CRM Process\n",
    "\n",
    "A typical (simplified) CRM process look like this:\n",
    "![Enhancing the CRM Process](CRM_Lifecycle.png)\n",
    "\n",
    "Under each CRM phases we have listed touch points where a Predictive Application can increase the effectiveness or efficiency of a critical CRM activity to boost revenue and/or lower cost.  Four common starting points are:\n",
    "\n",
    "* __[Lead Scoring](http://jupyter1.datascienceinstitute.com.au:8888/notebooks/Notebooks/Predictive_Applications/bank_lead_scoring_benefits.ipynb)__: This is the process of ranking leads to prioritise sales resources on the customers who are most likely to buy now.  The benefits are increased sales ROI and conversion rate, which translate to a lower cost of sale and higher revenues. There is also the benefit of a happier, more engaged salesforce. \n",
    "* __[Customer Lifetime Value (CLV)](http://jupyter1.datascienceinstitute.com.au:8888/notebooks/Notebooks/Predictive_Applications/Online_Retail_CLV.ipynb)__: This is the present value of the future cash flows attributed to the customer during his/her entire relationship with the company. CLV is considered an essential business metric as it shifts focus from quarterly revenues to long-term profits.  Furthermore, the sum over all CLVs estimates the value of the customer base, which can then be managed as an asset.\n",
    "* __[Churn Prediction](http://jupyter1.datascienceinstitute.com.au:8888/notebooks/Notebooks/Predictive_Applications/customer-churn-prediction.ipynb)__: This answers the question “Which customers are most likely to leave in the next period?” Given the high cost of acquiring new customers there is a strong incentive to take action to retain a customer. Organisations typically employ retention actions (e.g., a targeted phone call or mailing campaigns), with offers of special benefits or discounts. The difficult questions becomes “who, how, and at what cost?” \n",
    "* __Recommendation Engine__: This predicts which products a prospect is likely to purchase based on past behaviour (e.g., past purchases, activity, ratings). It was made famous by Amazon and Netflix, who provide recommendations on what to buy or view. The benefit is high conversation rates and an increase in basket size. "
   ]
  },
  {
   "cell_type": "markdown",
   "metadata": {},
   "source": [
    "Churn analysis of the UCI [Online Retail data](http://archive.ics.uci.edu/ml/datasets/Online+Retail)\n"
   ]
  },
  {
   "cell_type": "code",
   "execution_count": 33,
   "metadata": {
    "ExecuteTime": {
     "end_time": "2016-06-02T22:57:38.036610",
     "start_time": "2016-06-02T22:57:38.033875"
    },
    "collapsed": false
   },
   "outputs": [],
   "source": [
    "import graphlab as gl\n",
    "import graphlab.aggregate\n",
    "import datetime\n",
    "import time\n",
    "import os"
   ]
  },
  {
   "cell_type": "code",
   "execution_count": 2,
   "metadata": {
    "ExecuteTime": {
     "end_time": "2016-06-02T22:14:26.134531",
     "start_time": "2016-06-02T22:14:24.696011"
    },
    "collapsed": false,
    "scrolled": true
   },
   "outputs": [
    {
     "name": "stderr",
     "output_type": "stream",
     "text": [
      "[INFO] graphlab.cython.cy_server: GraphLab Create v1.10 started. Logging: /tmp/graphlab_server_1464905664.log\n",
      "INFO:graphlab.cython.cy_server:GraphLab Create v1.10 started. Logging: /tmp/graphlab_server_1464905664.log\n"
     ]
    },
    {
     "name": "stdout",
     "output_type": "stream",
     "text": [
      "This non-commercial license of GraphLab Create is assigned to kevin.mcisaac@gmail.com and will expire on November 06, 2016. For commercial licensing options, visit https://dato.com/buy/.\n"
     ]
    }
   ],
   "source": [
    "if  not os.path.exists('Data/online_retail'):\n",
    "    data = gl.SFrame(\"https://s3.amazonaws.com/dato-datasets/churn-prediction/online_retail.csv\")\n",
    "    data = data.remove_columns(['InvoiceNo', 'Description'])\n",
    "    data['InvoiceDate']=data['InvoiceDate'].str_to_datetime('%m/%d/%y %H:%M')\n",
    "    data.save('Data/online_retail')\n",
    "else:\n",
    "    data = gl.SFrame('Data/online_retail')"
   ]
  },
  {
   "cell_type": "markdown",
   "metadata": {},
   "source": [
    "Finally, we want to separate some users into a train/validation set, making sure the validation users are not in the training set, and creating TimeSeries objects out of them."
   ]
  },
  {
   "cell_type": "code",
   "execution_count": 3,
   "metadata": {
    "ExecuteTime": {
     "end_time": "2016-06-02T22:14:28.433531",
     "start_time": "2016-06-02T22:14:26.136077"
    },
    "collapsed": true
   },
   "outputs": [],
   "source": [
    "(train, valid) = gl.churn_predictor.random_split(data, user_id = 'CustomerID', fraction = 0.9, seed = 12)\n",
    "train_trial = gl.TimeSeries(train, index = 'InvoiceDate')\n",
    "valid_trial = gl.TimeSeries(valid, index = 'InvoiceDate')"
   ]
  },
  {
   "cell_type": "markdown",
   "metadata": {},
   "source": [
    "Now we can load user information, which can be used to augment the churn prediction model."
   ]
  },
  {
   "cell_type": "code",
   "execution_count": 4,
   "metadata": {
    "ExecuteTime": {
     "end_time": "2016-06-02T22:14:28.439229",
     "start_time": "2016-06-02T22:14:28.434885"
    },
    "collapsed": false
   },
   "outputs": [],
   "source": [
    "if  not os.path.exists('Data/userdata'):\n",
    "    userdata = gl.SFrame(\"https://s3.amazonaws.com/dato-datasets/churn-prediction/online_retail_side_data_extended.csv\")\n",
    "    userdata.save('Data/userdata')\n",
    "else:\n",
    "    userdata = gl.SFrame('Data/userdata')"
   ]
  },
  {
   "cell_type": "markdown",
   "metadata": {},
   "source": [
    "## Training the model"
   ]
  },
  {
   "cell_type": "markdown",
   "metadata": {},
   "source": [
    "Let's now train the model."
   ]
  },
  {
   "cell_type": "markdown",
   "metadata": {},
   "source": [
    "### Create a train-test split based on users"
   ]
  },
  {
   "cell_type": "markdown",
   "metadata": {},
   "source": [
    "First, let's observe the data, and see what the time range looks like"
   ]
  },
  {
   "cell_type": "code",
   "execution_count": 5,
   "metadata": {
    "ExecuteTime": {
     "end_time": "2016-06-02T22:14:28.459756",
     "start_time": "2016-06-02T22:14:28.440537"
    },
    "collapsed": false
   },
   "outputs": [
    {
     "name": "stdout",
     "output_type": "stream",
     "text": [
      "Start date : 2010-12-01 08:26:00\n",
      "End date   : 2011-12-09 12:50:00\n"
     ]
    }
   ],
   "source": [
    "print \"Start date : %s\" % train_trial.min_time\n",
    "print \"End date   : %s\" % train_trial.max_time"
   ]
  },
  {
   "cell_type": "code",
   "execution_count": 6,
   "metadata": {
    "ExecuteTime": {
     "end_time": "2016-06-02T22:14:28.465395",
     "start_time": "2016-06-02T22:14:28.461062"
    },
    "collapsed": true
   },
   "outputs": [],
   "source": [
    "# Period of inactivity that defines churn -- meaning that if a user stops purchasing\n",
    "# items for 30 days, we'll consider them as having churned.\n",
    "churn_period_trial = datetime.timedelta(days = 30) \n",
    "\n",
    "# Different beginning of months\n",
    "churn_boundary_aug = datetime.datetime(year = 2011, month = 8, day = 1) \n",
    "churn_boundary_sep = datetime.datetime(year = 2011, month = 9, day = 1) \n",
    "churn_boundary_oct = datetime.datetime(year = 2011, month = 10, day = 1) "
   ]
  },
  {
   "cell_type": "code",
   "execution_count": 7,
   "metadata": {
    "ExecuteTime": {
     "end_time": "2016-06-02T22:14:35.443860",
     "start_time": "2016-06-02T22:14:28.466709"
    },
    "collapsed": true
   },
   "outputs": [
    {
     "name": "stdout",
     "output_type": "stream",
     "text": [
      "PROGRESS: Grouping observation_data by user.\n",
      "PROGRESS: Resampling grouped observation_data by time-period 1 day, 0:00:00."
     ]
    },
    {
     "data": {
      "text/html": [
       "<pre>StockCode is a categorical variable with too many different values (4063) and will be ignored.</pre>"
      ],
      "text/plain": [
       "StockCode is a categorical variable with too many different values (4063) and will be ignored."
      ]
     },
     "metadata": {},
     "output_type": "display_data"
    },
    {
     "name": "stdout",
     "output_type": "stream",
     "text": [
      "\n",
      "PROGRESS: Generating features for time-boundary.\n",
      "PROGRESS: --------------------------------------------------\n",
      "PROGRESS: Features for 2011-08-01 00:00:00.\n",
      "PROGRESS: Features for 2011-09-01 00:00:00.\n",
      "PROGRESS: Features for 2011-10-01 00:00:00.\n",
      "PROGRESS: Joining user_data with aggregated features.\n",
      "PROGRESS: --------------------------------------------------\n",
      "PROGRESS: Training a classifier model."
     ]
    },
    {
     "data": {
      "text/html": [
       "<pre>Boosted trees classifier:</pre>"
      ],
      "text/plain": [
       "Boosted trees classifier:"
      ]
     },
     "metadata": {},
     "output_type": "display_data"
    },
    {
     "data": {
      "text/html": [
       "<pre>--------------------------------------------------------</pre>"
      ],
      "text/plain": [
       "--------------------------------------------------------"
      ]
     },
     "metadata": {},
     "output_type": "display_data"
    },
    {
     "data": {
      "text/html": [
       "<pre>Number of examples          : 9196</pre>"
      ],
      "text/plain": [
       "Number of examples          : 9196"
      ]
     },
     "metadata": {},
     "output_type": "display_data"
    },
    {
     "data": {
      "text/html": [
       "<pre>Number of classes           : 2</pre>"
      ],
      "text/plain": [
       "Number of classes           : 2"
      ]
     },
     "metadata": {},
     "output_type": "display_data"
    },
    {
     "data": {
      "text/html": [
       "<pre>Number of feature columns   : 23</pre>"
      ],
      "text/plain": [
       "Number of feature columns   : 23"
      ]
     },
     "metadata": {},
     "output_type": "display_data"
    },
    {
     "data": {
      "text/html": [
       "<pre>Number of unpacked features : 1290</pre>"
      ],
      "text/plain": [
       "Number of unpacked features : 1290"
      ]
     },
     "metadata": {},
     "output_type": "display_data"
    },
    {
     "data": {
      "text/html": [
       "<pre>+-----------+--------------+-------------------+-------------------+</pre>"
      ],
      "text/plain": [
       "+-----------+--------------+-------------------+-------------------+"
      ]
     },
     "metadata": {},
     "output_type": "display_data"
    },
    {
     "data": {
      "text/html": [
       "<pre>| Iteration | Elapsed Time | Training-accuracy | Training-log_loss |</pre>"
      ],
      "text/plain": [
       "| Iteration | Elapsed Time | Training-accuracy | Training-log_loss |"
      ]
     },
     "metadata": {},
     "output_type": "display_data"
    },
    {
     "data": {
      "text/html": [
       "<pre>+-----------+--------------+-------------------+-------------------+</pre>"
      ],
      "text/plain": [
       "+-----------+--------------+-------------------+-------------------+"
      ]
     },
     "metadata": {},
     "output_type": "display_data"
    },
    {
     "data": {
      "text/html": [
       "<pre>| 1         | 0.032544     | 0.782623          | 0.602424          |</pre>"
      ],
      "text/plain": [
       "| 1         | 0.032544     | 0.782623          | 0.602424          |"
      ]
     },
     "metadata": {},
     "output_type": "display_data"
    },
    {
     "data": {
      "text/html": [
       "<pre>| 2         | 0.067042     | 0.788930          | 0.552373          |</pre>"
      ],
      "text/plain": [
       "| 2         | 0.067042     | 0.788930          | 0.552373          |"
      ]
     },
     "metadata": {},
     "output_type": "display_data"
    },
    {
     "data": {
      "text/html": [
       "<pre>| 3         | 0.102729     | 0.790779          | 0.522469          |</pre>"
      ],
      "text/plain": [
       "| 3         | 0.102729     | 0.790779          | 0.522469          |"
      ]
     },
     "metadata": {},
     "output_type": "display_data"
    },
    {
     "data": {
      "text/html": [
       "<pre>| 4         | 0.134203     | 0.792410          | 0.503216          |</pre>"
      ],
      "text/plain": [
       "| 4         | 0.134203     | 0.792410          | 0.503216          |"
      ]
     },
     "metadata": {},
     "output_type": "display_data"
    },
    {
     "data": {
      "text/html": [
       "<pre>| 5         | 0.166597     | 0.796868          | 0.489915          |</pre>"
      ],
      "text/plain": [
       "| 5         | 0.166597     | 0.796868          | 0.489915          |"
      ]
     },
     "metadata": {},
     "output_type": "display_data"
    },
    {
     "data": {
      "text/html": [
       "<pre>| 6         | 0.201621     | 0.798826          | 0.480446          |</pre>"
      ],
      "text/plain": [
       "| 6         | 0.201621     | 0.798826          | 0.480446          |"
      ]
     },
     "metadata": {},
     "output_type": "display_data"
    },
    {
     "data": {
      "text/html": [
       "<pre>+-----------+--------------+-------------------+-------------------+</pre>"
      ],
      "text/plain": [
       "+-----------+--------------+-------------------+-------------------+"
      ]
     },
     "metadata": {},
     "output_type": "display_data"
    },
    {
     "data": {
      "text/html": [
       "<pre>Decision tree regression:</pre>"
      ],
      "text/plain": [
       "Decision tree regression:"
      ]
     },
     "metadata": {},
     "output_type": "display_data"
    },
    {
     "data": {
      "text/html": [
       "<pre>--------------------------------------------------------</pre>"
      ],
      "text/plain": [
       "--------------------------------------------------------"
      ]
     },
     "metadata": {},
     "output_type": "display_data"
    },
    {
     "data": {
      "text/html": [
       "<pre>Number of examples          : 9196</pre>"
      ],
      "text/plain": [
       "Number of examples          : 9196"
      ]
     },
     "metadata": {},
     "output_type": "display_data"
    },
    {
     "data": {
      "text/html": [
       "<pre>Number of features          : 23</pre>"
      ],
      "text/plain": [
       "Number of features          : 23"
      ]
     },
     "metadata": {},
     "output_type": "display_data"
    },
    {
     "data": {
      "text/html": [
       "<pre>Number of unpacked features : 1290</pre>"
      ],
      "text/plain": [
       "Number of unpacked features : 1290"
      ]
     },
     "metadata": {},
     "output_type": "display_data"
    },
    {
     "data": {
      "text/html": [
       "<pre>+-----------+--------------+--------------------+---------------+</pre>"
      ],
      "text/plain": [
       "+-----------+--------------+--------------------+---------------+"
      ]
     },
     "metadata": {},
     "output_type": "display_data"
    },
    {
     "data": {
      "text/html": [
       "<pre>| Iteration | Elapsed Time | Training-max_error | Training-rmse |</pre>"
      ],
      "text/plain": [
       "| Iteration | Elapsed Time | Training-max_error | Training-rmse |"
      ]
     },
     "metadata": {},
     "output_type": "display_data"
    },
    {
     "data": {
      "text/html": [
       "<pre>+-----------+--------------+--------------------+---------------+</pre>"
      ],
      "text/plain": [
       "+-----------+--------------+--------------------+---------------+"
      ]
     },
     "metadata": {},
     "output_type": "display_data"
    },
    {
     "data": {
      "text/html": [
       "<pre>| 1         | 0.046788     | 0.377914           | 0.203518      |</pre>"
      ],
      "text/plain": [
       "| 1         | 0.046788     | 0.377914           | 0.203518      |"
      ]
     },
     "metadata": {},
     "output_type": "display_data"
    },
    {
     "data": {
      "text/html": [
       "<pre>+-----------+--------------+--------------------+---------------+</pre>"
      ],
      "text/plain": [
       "+-----------+--------------+--------------------+---------------+"
      ]
     },
     "metadata": {},
     "output_type": "display_data"
    },
    {
     "name": "stdout",
     "output_type": "stream",
     "text": [
      "\n",
      "PROGRESS: --------------------------------------------------\n",
      "PROGRESS: Model training complete: Next steps\n",
      "PROGRESS: --------------------------------------------------\n",
      "PROGRESS: (1) Evaluate the model at various timestamps in the past:\n",
      "PROGRESS:       metrics = model.evaluate(data, time_in_past)\n",
      "PROGRESS: (2) Make a churn forecast for a timestamp in the future:\n",
      "PROGRESS:       predictions = model.predict(data, time_in_future)\n"
     ]
    }
   ],
   "source": [
    "model = gl.churn_predictor.create(train_trial,\n",
    "                                  user_data = userdata,\n",
    "                                  user_id='CustomerID',\n",
    "                                  churn_period = churn_period_trial,\n",
    "                                  time_boundaries = [churn_boundary_aug, churn_boundary_sep, churn_boundary_oct])"
   ]
  },
  {
   "cell_type": "markdown",
   "metadata": {},
   "source": [
    "### Evaluating the model (post-hoc anaylsis)"
   ]
  },
  {
   "cell_type": "code",
   "execution_count": 8,
   "metadata": {
    "ExecuteTime": {
     "end_time": "2016-06-02T22:14:35.448511",
     "start_time": "2016-06-02T22:14:35.446083"
    },
    "collapsed": true
   },
   "outputs": [],
   "source": [
    "# Evaluate this model in October\n",
    "evaluation_time = churn_boundary_oct\n",
    "metrics = model.evaluate(valid_trial, evaluation_time, user_data = userdata)\n",
    "print(metrics)"
   ]
  },
  {
   "cell_type": "markdown",
   "metadata": {},
   "source": [
    "### Make predictions in the future"
   ]
  },
  {
   "cell_type": "markdown",
   "metadata": {},
   "source": [
    "Here the question to ask is will they churn after a certain period of time. To validate we can see if they user has used us after that evaluation period. Voila! I was confusing it with expiration time (customer churn not usage churn)"
   ]
  },
  {
   "cell_type": "code",
   "execution_count": 11,
   "metadata": {
    "ExecuteTime": {
     "end_time": "2016-06-02T22:14:36.428320",
     "start_time": "2016-06-02T22:14:36.015519"
    },
    "collapsed": true
   },
   "outputs": [
    {
     "name": "stdout",
     "output_type": "stream",
     "text": [
      "PROGRESS: Making a churn forecast for the time window:\n",
      "PROGRESS: --------------------------------------------------\n",
      "PROGRESS:  Start : 2011-12-09 11:20:00\n",
      "PROGRESS:  End   : 2012-01-08 11:20:00\n",
      "PROGRESS: --------------------------------------------------\n",
      "PROGRESS: Grouping dataset by user.\n",
      "PROGRESS: Resampling grouped observation_data by time-period 1 day, 0:00:00."
     ]
    },
    {
     "data": {
      "text/html": [
       "<pre>StockCode is a categorical variable with too many different values (4063) and will be ignored.</pre>"
      ],
      "text/plain": [
       "StockCode is a categorical variable with too many different values (4063) and will be ignored."
      ]
     },
     "metadata": {},
     "output_type": "display_data"
    },
    {
     "name": "stdout",
     "output_type": "stream",
     "text": [
      "\n",
      "PROGRESS: Generating features for boundary 2011-12-09 11:20:00.\n",
      "PROGRESS: Joining user_data with aggregated features.\n",
      "+------------+-----------------+\n",
      "| CustomerID |   probability   |\n",
      "+------------+-----------------+\n",
      "|   13761    |  0.661192655563 |\n",
      "|   12789    |  0.831865549088 |\n",
      "|   12377    |  0.929451584816 |\n",
      "|   13715    |  0.852380812168 |\n",
      "|   17725    |  0.501834571362 |\n",
      "|   15437    |  0.89022809267  |\n",
      "|   12739    |  0.785794794559 |\n",
      "|   16523    | 0.0530522763729 |\n",
      "|   14711    |  0.599178552628 |\n",
      "|   12851    |  0.785794794559 |\n",
      "+------------+-----------------+\n",
      "[442 rows x 2 columns]\n",
      "\n"
     ]
    }
   ],
   "source": [
    "# Make predictions in the future.\n",
    "\n",
    "predictions_trial = model.predict(valid_trial, user_data = userdata)\n",
    "predictions_trial.sort('probability', ascending=False).print_rows(20,max_column_width=20)"
   ]
  },
  {
   "cell_type": "code",
   "execution_count": 32,
   "metadata": {
    "ExecuteTime": {
     "end_time": "2016-06-02T22:54:48.005096",
     "start_time": "2016-06-02T22:54:43.727637"
    },
    "collapsed": true
   },
   "outputs": [
    {
     "name": "stdout",
     "output_type": "stream",
     "text": [
      "PROGRESS: Making a churn forecast for the time window:\n",
      "PROGRESS: --------------------------------------------------\n",
      "PROGRESS:  Start : 2011-10-01 00:00:00\n",
      "PROGRESS:  End   : 2011-10-31 00:00:00\n",
      "PROGRESS: --------------------------------------------------\n",
      "PROGRESS: Grouping dataset by user.\n",
      "PROGRESS: Resampling grouped observation_data by time-period 1 day, 0:00:00."
     ]
    },
    {
     "data": {
      "text/html": [
       "<pre>StockCode is a categorical variable with too many different values (4063) and will be ignored.</pre>"
      ],
      "text/plain": [
       "StockCode is a categorical variable with too many different values (4063) and will be ignored."
      ]
     },
     "metadata": {},
     "output_type": "display_data"
    },
    {
     "name": "stdout",
     "output_type": "stream",
     "text": [
      "\n",
      "PROGRESS: Generating features for boundary 2011-10-01 00:00:00.\n",
      "PROGRESS: Joining user_data with aggregated features.\n",
      "PROGRESS: Not enough data to make predictions for 644 user(s). \n"
     ]
    },
    {
     "data": {
      "text/plain": [
       "View object\n",
       "\n",
       "URI: \t\thttp://localhost:32212/view/4859773c-a12c-4c45-a2e8-4ad8cd77d739\n",
       "HTML: \t\t\n",
       "<gl-churn-predictor-explore\n",
       "    uri=\"http://localhost:32212/view/38957042-4d52-4e98-9b3b-1e6146ba237c\"\n",
       "    api_key=\"\"\n",
       "/>\n",
       "        "
      ]
     },
     "execution_count": 32,
     "metadata": {},
     "output_type": "execute_result"
    }
   ],
   "source": [
    "view = model.views.explore(train_trial, churn_boundary_oct, user_data = userdata)\n",
    "view.show()"
   ]
  },
  {
   "cell_type": "code",
   "execution_count": 31,
   "metadata": {
    "ExecuteTime": {
     "end_time": "2016-06-02T22:54:29.810022",
     "start_time": "2016-06-02T22:54:15.702906"
    },
    "collapsed": true
   },
   "outputs": [
    {
     "name": "stdout",
     "output_type": "stream",
     "text": [
      "PROGRESS: Making a churn forecast for the time window:\n",
      "PROGRESS: --------------------------------------------------\n",
      "PROGRESS:  Start : 2011-10-01 00:00:00\n",
      "PROGRESS:  End   : 2011-10-31 00:00:00\n",
      "PROGRESS: --------------------------------------------------\n",
      "PROGRESS: Grouping dataset by user.\n",
      "PROGRESS: Resampling grouped observation_data by time-period 1 day, 0:00:00."
     ]
    },
    {
     "data": {
      "text/html": [
       "<pre>StockCode is a categorical variable with too many different values (4063) and will be ignored.</pre>"
      ],
      "text/plain": [
       "StockCode is a categorical variable with too many different values (4063) and will be ignored."
      ]
     },
     "metadata": {},
     "output_type": "display_data"
    },
    {
     "name": "stdout",
     "output_type": "stream",
     "text": [
      "\n",
      "PROGRESS: Generating features for boundary 2011-10-01 00:00:00.\n",
      "PROGRESS: Joining user_data with aggregated features.\n",
      "PROGRESS: Not enough data to make predictions for 644 user(s). \n",
      "PROGRESS: Making a churn forecast for the time window:\n",
      "PROGRESS: --------------------------------------------------\n",
      "PROGRESS:  Start : 2011-10-01 00:00:00\n",
      "PROGRESS:  End   : 2011-10-31 00:00:00\n",
      "PROGRESS: --------------------------------------------------\n",
      "PROGRESS: Grouping dataset by user.\n",
      "PROGRESS: Resampling grouped observation_data by time-period 1 day, 0:00:00."
     ]
    },
    {
     "data": {
      "text/html": [
       "<pre>StockCode is a categorical variable with too many different values (4063) and will be ignored.</pre>"
      ],
      "text/plain": [
       "StockCode is a categorical variable with too many different values (4063) and will be ignored."
      ]
     },
     "metadata": {},
     "output_type": "display_data"
    },
    {
     "name": "stdout",
     "output_type": "stream",
     "text": [
      "\n",
      "PROGRESS: Generating features for boundary 2011-10-01 00:00:00.\n",
      "PROGRESS: Joining user_data with aggregated features.\n",
      "PROGRESS: Not enough data to make predictions for 644 user(s). \n",
      "PROGRESS: Making a churn forecast for the time window:\n",
      "PROGRESS: --------------------------------------------------\n",
      "PROGRESS:  Start : 2011-10-01 00:00:00\n",
      "PROGRESS:  End   : 2011-10-31 00:00:00\n",
      "PROGRESS: --------------------------------------------------\n",
      "PROGRESS: Grouping dataset by user.\n",
      "PROGRESS: Resampling grouped observation_data by time-period 1 day, 0:00:00."
     ]
    },
    {
     "data": {
      "text/html": [
       "<pre>StockCode is a categorical variable with too many different values (4063) and will be ignored.</pre>"
      ],
      "text/plain": [
       "StockCode is a categorical variable with too many different values (4063) and will be ignored."
      ]
     },
     "metadata": {},
     "output_type": "display_data"
    },
    {
     "name": "stdout",
     "output_type": "stream",
     "text": [
      "\n",
      "PROGRESS: Generating features for boundary 2011-10-01 00:00:00.\n",
      "PROGRESS: Joining user_data with aggregated features.\n",
      "PROGRESS: Not enough data to make predictions for 644 user(s). \n"
     ]
    }
   ],
   "source": [
    "view = model.views.overview(train_trial, evaluation_time, user_data = userdata)\n",
    "view.show()"
   ]
  },
  {
   "cell_type": "code",
   "execution_count": 28,
   "metadata": {
    "ExecuteTime": {
     "end_time": "2016-06-02T22:48:57.882244",
     "start_time": "2016-06-02T22:48:57.879822"
    },
    "collapsed": true
   },
   "outputs": [],
   "source": [
    "view.show()"
   ]
  },
  {
   "cell_type": "code",
   "execution_count": 21,
   "metadata": {
    "ExecuteTime": {
     "end_time": "2016-06-02T22:14:40.857055",
     "start_time": "2016-06-02T22:14:40.851947"
    },
    "collapsed": true
   },
   "outputs": [],
   "source": [
    "gl.canvas.set_target('headless', port=8889)"
   ]
  },
  {
   "cell_type": "code",
   "execution_count": 29,
   "metadata": {
    "ExecuteTime": {
     "end_time": "2016-06-02T22:49:12.667190",
     "start_time": "2016-06-02T22:49:12.643860"
    },
    "collapsed": false
   },
   "outputs": [
    {
     "name": "stdout",
     "output_type": "stream",
     "text": [
      "Canvas is accessible via web browser at the URL: http://localhost:8889/index.html\n"
     ]
    }
   ],
   "source": [
    "sf= gl.SFrame({'a':[1,2,3],'b':[4,5,6]})\n",
    "sf.show()"
   ]
  },
  {
   "cell_type": "code",
   "execution_count": null,
   "metadata": {
    "collapsed": true
   },
   "outputs": [],
   "source": []
  }
 ],
 "metadata": {
  "kernelspec": {
   "display_name": "Python 2",
   "language": "python",
   "name": "python2"
  },
  "language_info": {
   "codemirror_mode": {
    "name": "ipython",
    "version": 2
   },
   "file_extension": ".py",
   "mimetype": "text/x-python",
   "name": "python",
   "nbconvert_exporter": "python",
   "pygments_lexer": "ipython2",
   "version": "2.7.11"
  },
  "toc": {
   "toc_cell": false,
   "toc_number_sections": false,
   "toc_section_display": "none",
   "toc_threshold": "2",
   "toc_window_display": true
  }
 },
 "nbformat": 4,
 "nbformat_minor": 0
}
